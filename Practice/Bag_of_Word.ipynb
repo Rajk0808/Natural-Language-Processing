{
 "cells": [
  {
   "cell_type": "code",
   "execution_count": 1,
   "id": "b5dd7997",
   "metadata": {},
   "outputs": [],
   "source": [
    "from nltk.tokenize import sent_tokenize, word_tokenize\n",
    "import pandas as pd "
   ]
  },
  {
   "cell_type": "code",
   "execution_count": 2,
   "id": "d889581a",
   "metadata": {},
   "outputs": [],
   "source": [
    "import pandas as pd\n",
    "\n",
    "# Initialize an empty list to store feature vectors\n",
    "feature_vectors = []\n",
    "\n",
    "# Sample text data\n",
    "word_text = [\"The is a very very cute cat\", \"The dog is very cute\"]\n",
    "\n",
    "# Tokenize the text into lists of words\n",
    "tokens = [token.split() for token in word_text]\n",
    "\n",
    "# Create a vocabulary list of unique words\n",
    "vocab = list(set([word for text in tokens for word in text]))\n",
    "\n",
    "# Iterate over each text in the tokenized list\n",
    "for text in tokens:\n",
    "    # Initialize a feature vector with zeros for each word in the vocabulary\n",
    "    feature_vector = [0] * len(vocab)\n",
    "    \n",
    "    # Iterate over each word in the text\n",
    "    for word in text:\n",
    "        # Update the feature vector based on the count of each word in the text\n",
    "        feature_vector[vocab.index(word)] = text.count(word)\n",
    "\n",
    "    # Append the feature vector to the list of feature vectors\n",
    "    feature_vectors.append(feature_vector)\n",
    "\n",
    "# Create a DataFrame with feature vectors as columns and the word_text as an additional column\n",
    "df = pd.DataFrame(feature_vectors, columns=vocab)\n",
    "df['word_corpus'] = word_text"
   ]
  },
  {
   "cell_type": "code",
   "execution_count": 3,
   "id": "31955032",
   "metadata": {},
   "outputs": [
    {
     "data": {
      "text/html": [
       "<div>\n",
       "<style scoped>\n",
       "    .dataframe tbody tr th:only-of-type {\n",
       "        vertical-align: middle;\n",
       "    }\n",
       "\n",
       "    .dataframe tbody tr th {\n",
       "        vertical-align: top;\n",
       "    }\n",
       "\n",
       "    .dataframe thead th {\n",
       "        text-align: right;\n",
       "    }\n",
       "</style>\n",
       "<table border=\"1\" class=\"dataframe\">\n",
       "  <thead>\n",
       "    <tr style=\"text-align: right;\">\n",
       "      <th></th>\n",
       "      <th>cat</th>\n",
       "      <th>a</th>\n",
       "      <th>cute</th>\n",
       "      <th>very</th>\n",
       "      <th>The</th>\n",
       "      <th>dog</th>\n",
       "      <th>is</th>\n",
       "      <th>word_corpus</th>\n",
       "    </tr>\n",
       "  </thead>\n",
       "  <tbody>\n",
       "    <tr>\n",
       "      <th>0</th>\n",
       "      <td>1</td>\n",
       "      <td>1</td>\n",
       "      <td>1</td>\n",
       "      <td>2</td>\n",
       "      <td>1</td>\n",
       "      <td>0</td>\n",
       "      <td>1</td>\n",
       "      <td>The is a very very cute cat</td>\n",
       "    </tr>\n",
       "    <tr>\n",
       "      <th>1</th>\n",
       "      <td>0</td>\n",
       "      <td>0</td>\n",
       "      <td>1</td>\n",
       "      <td>1</td>\n",
       "      <td>1</td>\n",
       "      <td>1</td>\n",
       "      <td>1</td>\n",
       "      <td>The dog is very cute</td>\n",
       "    </tr>\n",
       "  </tbody>\n",
       "</table>\n",
       "</div>"
      ],
      "text/plain": [
       "   cat  a  cute  very  The  dog  is                  word_corpus\n",
       "0    1  1     1     2    1    0   1  The is a very very cute cat\n",
       "1    0  0     1     1    1    1   1         The dog is very cute"
      ]
     },
     "execution_count": 3,
     "metadata": {},
     "output_type": "execute_result"
    }
   ],
   "source": [
    "df"
   ]
  }
 ],
 "metadata": {
  "kernelspec": {
   "display_name": "base",
   "language": "python",
   "name": "python3"
  },
  "language_info": {
   "codemirror_mode": {
    "name": "ipython",
    "version": 3
   },
   "file_extension": ".py",
   "mimetype": "text/x-python",
   "name": "python",
   "nbconvert_exporter": "python",
   "pygments_lexer": "ipython3",
   "version": "3.12.7"
  }
 },
 "nbformat": 4,
 "nbformat_minor": 5
}
