{
 "cells": [
  {
   "cell_type": "code",
   "execution_count": 1,
   "id": "1bf3ccd0-0dd4-4823-9ebb-e5efed855d07",
   "metadata": {},
   "outputs": [],
   "source": [
    "import nltk "
   ]
  },
  {
   "cell_type": "code",
   "execution_count": null,
   "id": "9026cba3-9bae-4288-810b-d904e7feffe8",
   "metadata": {},
   "outputs": [
    {
     "name": "stdout",
     "output_type": "stream",
     "text": [
      "showing info https://raw.githubusercontent.com/nltk/nltk_data/gh-pages/index.xml\n"
     ]
    }
   ],
   "source": [
    "nltk.download()"
   ]
  },
  {
   "cell_type": "code",
   "execution_count": null,
   "id": "9ed2913e-fc18-4a4a-8c6a-a024c31dca19",
   "metadata": {},
   "outputs": [],
   "source": [
    "text = \"Hello there, my name is Raghvendra you can call me Raj.\""
   ]
  },
  {
   "cell_type": "markdown",
   "id": "fd116c6f-afb6-4ed8-a463-94bbaf50603d",
   "metadata": {},
   "source": [
    "## Use Python method to extract the number of words"
   ]
  },
  {
   "cell_type": "code",
   "execution_count": null,
   "id": "ecc0790b-26bb-47bb-a8d3-fd9cc4d788e4",
   "metadata": {},
   "outputs": [],
   "source": [
    "print(len(text.split(' '))) "
   ]
  },
  {
   "cell_type": "markdown",
   "id": "62dc6fea-833b-409a-8b69-0c263d253cc4",
   "metadata": {},
   "source": [
    "## Using Python inbuilt method to extract number of Sentences"
   ]
  },
  {
   "cell_type": "code",
   "execution_count": null,
   "id": "d77a1e28-0f55-4ffc-ba39-d0761fcf8060",
   "metadata": {},
   "outputs": [],
   "source": [
    "print(len(text.split('.')))"
   ]
  },
  {
   "cell_type": "markdown",
   "id": "c3f279b5-f959-4173-802f-c27707bc74e6",
   "metadata": {},
   "source": [
    "## Using the Tokenization "
   ]
  },
  {
   "cell_type": "code",
   "execution_count": null,
   "id": "282612b4-495c-4fb6-9804-d622f7915cea",
   "metadata": {},
   "outputs": [],
   "source": [
    "from nltk.tokenize import word_tokenize, sent_tokenize\n",
    "len(sent_tokenize(text))"
   ]
  }
 ],
 "metadata": {
  "kernelspec": {
   "display_name": "Python 3 (ipykernel)",
   "language": "python",
   "name": "python3"
  },
  "language_info": {
   "codemirror_mode": {
    "name": "ipython",
    "version": 3
   },
   "file_extension": ".py",
   "mimetype": "text/x-python",
   "name": "python",
   "nbconvert_exporter": "python",
   "pygments_lexer": "ipython3",
   "version": "3.12.7"
  }
 },
 "nbformat": 4,
 "nbformat_minor": 5
}
