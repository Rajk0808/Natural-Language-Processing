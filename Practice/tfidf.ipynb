{
 "cells": [
  {
   "cell_type": "markdown",
   "id": "eac552b3",
   "metadata": {},
   "source": [
    "# TF_IDF from Scratch"
   ]
  },
  {
   "cell_type": "code",
   "execution_count": 3,
   "id": "e6974281",
   "metadata": {},
   "outputs": [],
   "source": [
    "import numpy as np\n",
    "import pandas as pd"
   ]
  },
  {
   "cell_type": "code",
   "execution_count": 4,
   "id": "b996f6a5",
   "metadata": {},
   "outputs": [],
   "source": [
    "text_data = ['Good Movie', 'Bad Movie', 'Good Bad Movie']"
   ]
  },
  {
   "cell_type": "code",
   "execution_count": 5,
   "id": "89de07ed",
   "metadata": {},
   "outputs": [],
   "source": [
    "# Sentences and Word Tokenization\n",
    "word_data = [sentence.split(' ') for sentence in text_data]\n",
    "\n",
    "# Finding the Vocabulary\n",
    "vocab = list(set([word for sentence in word_data for word in sentence]))"
   ]
  },
  {
   "cell_type": "code",
   "execution_count": 6,
   "id": "2377a6b7",
   "metadata": {},
   "outputs": [
    {
     "name": "stdout",
     "output_type": "stream",
     "text": [
      "       Good       Bad  Movie       full_sent\n",
      "0  0.202733  0.000000    0.0      Good Movie\n",
      "1  0.000000  0.202733    0.0       Bad Movie\n",
      "2  0.135155  0.135155    0.0  Good Bad Movie\n"
     ]
    }
   ],
   "source": [
    "\n",
    "\n",
    "# Finding Term Frequency\n",
    "tf_data = []\n",
    "for sentence in word_data:\n",
    "    tf_sentence = []\n",
    "    for word in vocab:\n",
    "        # Calculate Term Frequency (TF) for each word in the sentence\n",
    "        tf_sentence.append(sentence.count(word) / len(sentence))\n",
    "    tf_data.append(tf_sentence)\n",
    "\n",
    "# Finding Inverse Document Frequency\n",
    "n_documents = len(text_data)\n",
    "idf_data = []\n",
    "\n",
    "for word in vocab:\n",
    "    n_appearances = 0\n",
    "    for sentence in word_data:\n",
    "        # Count the number of documents where the word appears\n",
    "        if word in sentence:\n",
    "            n_appearances += 1\n",
    "\n",
    "    # Calculate Inverse Document Frequency (IDF) for each word\n",
    "    idf = np.log(n_documents / n_appearances)\n",
    "    idf_data.append(idf)\n",
    "\n",
    "# Finding TF-IDF for each sentence\n",
    "tfidf_data = []\n",
    "for tf_sentence in tf_data:\n",
    "    tfidf_sentence = []\n",
    "    for tf, idf in zip(tf_sentence, idf_data):\n",
    "        # Calculate TF-IDF for each word in the sentence\n",
    "        tfidf_sentence.append(tf * idf)\n",
    "    tfidf_data.append(tfidf_sentence)\n",
    "\n",
    "# Create a DataFrame to display TF-IDF values for each word in each sentence\n",
    "df = pd.DataFrame(tfidf_data, columns=vocab)\n",
    "df['full_sent'] = text_data\n",
    "\n",
    "# Display the resulting DataFrame\n",
    "print(df)"
   ]
  },
  {
   "cell_type": "markdown",
   "id": "519f2e48",
   "metadata": {},
   "source": [
    "# Via Sklearn"
   ]
  },
  {
   "cell_type": "code",
   "execution_count": 8,
   "id": "bcf13105",
   "metadata": {},
   "outputs": [
    {
     "name": "stdout",
     "output_type": "stream",
     "text": [
      "        bad      good     movie       full_sent\n",
      "0  0.000000  0.789807  0.613356      good movie\n",
      "1  0.789807  0.000000  0.613356       bad movie\n",
      "2  0.619805  0.619805  0.481334  good bad movie\n"
     ]
    }
   ],
   "source": [
    "from sklearn.feature_extraction.text import TfidfVectorizer\n",
    "import pandas as pd\n",
    "\n",
    "# Input text data\n",
    "text_data = [\"good movie\", \"bad movie\", \"good bad movie\"]\n",
    "\n",
    "# Create a TfidfVectorizer instance\n",
    "vec = TfidfVectorizer()\n",
    "\n",
    "# Fit the vectorizer to the text data and transform the data into TF-IDF features\n",
    "vec.fit(text_data)\n",
    "\n",
    "# Convert the TF-IDF features to a pandas DataFrame\n",
    "df = pd.DataFrame(vec.transform(text_data).toarray(), columns=vec.get_feature_names_out())\n",
    "\n",
    "# Add the original sentences as a column in the DataFrame\n",
    "df['full_sent'] = text_data\n",
    "\n",
    "# Display the resulting DataFrame\n",
    "print(df)"
   ]
  }
 ],
 "metadata": {
  "kernelspec": {
   "display_name": "base",
   "language": "python",
   "name": "python3"
  },
  "language_info": {
   "codemirror_mode": {
    "name": "ipython",
    "version": 3
   },
   "file_extension": ".py",
   "mimetype": "text/x-python",
   "name": "python",
   "nbconvert_exporter": "python",
   "pygments_lexer": "ipython3",
   "version": "3.12.7"
  }
 },
 "nbformat": 4,
 "nbformat_minor": 5
}
